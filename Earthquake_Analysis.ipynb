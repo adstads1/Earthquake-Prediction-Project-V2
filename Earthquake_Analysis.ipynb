{
 "cells": [
  {
   "cell_type": "markdown",
   "id": "bde2ac2a-bc3b-4c6e-ad53-1f833cff4bc0",
   "metadata": {},
   "source": [
    "# Earthquake Prediction Project V2\n",
    "\n",
    ">Question: Build a full data pipleine which uses Machine Learning to predicts the Magnitude and Coordinates of the next earthquake.\n",
    "​\n",
    "\n",
    "Within this project I have created a local Data Engineering infrastructure using:\n",
    "* Jupyter Lab - For scheduling daily jobs to retreive up to date Earthquake API results.\n",
    "* MySQL - To store the historical earthquake dataset and predicted earthquake information.\n",
    "* Power BI - To visualise additional trends and patterns of earthquakes.\n",
    "\n",
    "Within this Jupyter notebook, I have gone through the Data Science pipeline and also implemented a Machine learning model. <br> Within this notebook, for the prediction of an earthquake, I have used:\n",
    "- A Standard scaler to scale the features to unit variance.\n",
    "- A Multivarient Linear Regression model with depth and time as the features.\n",
    "- **Further Machine Learning evaluation by hyperparameter tuning the Linear Regression.**\n",
    "\n",
    "​\n",
    "**Data Dictionary**\n",
    "- id : **Categorical**\n",
    "- magnitude : **Quantitive**\n",
    "- time : epoch format - **Quantitive**\n",
    "- longitude : **Quantitive**\n",
    "- latitude :  **Quantitive**\n",
    "- depth :  **Quantitive**\n",
    "\n",
    "​\n",
    "I have added comments explaining the steps undertaken throughout this notebook."
   ]
  },
  {
   "cell_type": "markdown",
   "id": "1760a63e-88a1-4db1-a98b-0dd7e6f6cc3e",
   "metadata": {},
   "source": [
    "# Extracting"
   ]
  },
  {
   "cell_type": "markdown",
   "id": "839eab57-bbf3-4552-8f27-21b64beb3986",
   "metadata": {},
   "source": [
    "### Importing & Data Cleaning"
   ]
  },
  {
   "cell_type": "code",
   "execution_count": 1,
   "id": "177cd42d-92fd-417f-bf35-e034911d2a2f",
   "metadata": {},
   "outputs": [],
   "source": [
    "import requests\n",
    "import json\n",
    "import pandas as pd\n",
    "import numpy as np"
   ]
  },
  {
   "cell_type": "code",
   "execution_count": 2,
   "id": "f088014e-c627-4166-a527-086c18cc31dc",
   "metadata": {},
   "outputs": [],
   "source": [
    "# We use this function to get the dataset\n",
    "#FYI, the amount of earthquake with a magnitude of 5 or greater is large,\n",
    "# We only get the earthquakes since 23 August 2022.\n",
    "#Additionally the dataset is large and can take sometime for the request to return\n",
    "def fetch_earthqk_data(start_time, end_time):\n",
    "    url = \"https://earthquake.usgs.gov/fdsnws/event/1/query?format=geojson&starttime=2000-01-01&endtime=now&limit=1000&orderby=time&minmagnitude=5\"\n",
    "    response = requests.get(url)\n",
    "    data = json.loads(response.text)\n",
    "    return data\n"
   ]
  },
  {
   "cell_type": "code",
   "execution_count": 3,
   "id": "24c0dceb-bc5d-45af-8dcf-9cdb7d79d2bc",
   "metadata": {},
   "outputs": [],
   "source": [
    "# We define the start date as well as getting the latest earthquakes by specifiying the now value and call the get request function\n",
    "start_time = \"2000-01-01\"\n",
    "end_time = \"now\"\n",
    "try:\n",
    "    data = fetch_earthqk_data(start_time, end_time)\n",
    "except Exception as e:\n",
    "        print(f\"Error fetching data from USGS' API: {e}\")\n",
    "        raise"
   ]
  },
  {
   "cell_type": "code",
   "execution_count": 4,
   "id": "d31e837c-3c77-49e9-89bd-c0fc7bd1180a",
   "metadata": {
    "tags": []
   },
   "outputs": [],
   "source": [
    "# From testing the response.json from Postman, we'll need the unique ID, magnitude, datetime, longitude, latititude and depth. \n",
    "# The below features will be usful for our machine model. Try catches have been used as numerous formatting errors were caused from testing\n",
    "try:\n",
    "    earthquakes = []\n",
    "    for feature in data['features']:\n",
    "        id = feature[\"id\"]\n",
    "        magnitude = feature['properties']['mag']\n",
    "        time = feature['properties']['time']\n",
    "        longitude, latitude, depth = feature['geometry']['coordinates']\n",
    "        earthquakes.append([id, magnitude, time, longitude, latitude, depth])\n",
    "except Exception as e:\n",
    "    print(f\"Error with formatting the response data: {e}\")\n",
    "    raise"
   ]
  },
  {
   "cell_type": "code",
   "execution_count": 5,
   "id": "5f853f56-ce70-4efa-b017-9bedef68f5ef",
   "metadata": {},
   "outputs": [
    {
     "data": {
      "text/html": [
       "<div>\n",
       "<style scoped>\n",
       "    .dataframe tbody tr th:only-of-type {\n",
       "        vertical-align: middle;\n",
       "    }\n",
       "\n",
       "    .dataframe tbody tr th {\n",
       "        vertical-align: top;\n",
       "    }\n",
       "\n",
       "    .dataframe thead th {\n",
       "        text-align: right;\n",
       "    }\n",
       "</style>\n",
       "<table border=\"1\" class=\"dataframe\">\n",
       "  <thead>\n",
       "    <tr style=\"text-align: right;\">\n",
       "      <th></th>\n",
       "      <th>id</th>\n",
       "      <th>magnitude</th>\n",
       "      <th>time</th>\n",
       "      <th>longitude</th>\n",
       "      <th>latitude</th>\n",
       "      <th>depth</th>\n",
       "    </tr>\n",
       "  </thead>\n",
       "  <tbody>\n",
       "    <tr>\n",
       "      <th>0</th>\n",
       "      <td>us6000k0pe</td>\n",
       "      <td>5.4</td>\n",
       "      <td>1680114409386</td>\n",
       "      <td>-173.0504</td>\n",
       "      <td>-15.2968</td>\n",
       "      <td>10.000</td>\n",
       "    </tr>\n",
       "    <tr>\n",
       "      <th>1</th>\n",
       "      <td>us6000k0il</td>\n",
       "      <td>5.1</td>\n",
       "      <td>1680080037792</td>\n",
       "      <td>127.9014</td>\n",
       "      <td>30.3087</td>\n",
       "      <td>6.485</td>\n",
       "    </tr>\n",
       "    <tr>\n",
       "      <th>2</th>\n",
       "      <td>us6000k0i7</td>\n",
       "      <td>5.0</td>\n",
       "      <td>1680075533484</td>\n",
       "      <td>178.4971</td>\n",
       "      <td>-26.2273</td>\n",
       "      <td>617.233</td>\n",
       "    </tr>\n",
       "    <tr>\n",
       "      <th>3</th>\n",
       "      <td>us6000k0bv</td>\n",
       "      <td>5.2</td>\n",
       "      <td>1680008837439</td>\n",
       "      <td>166.7573</td>\n",
       "      <td>-10.9198</td>\n",
       "      <td>9.181</td>\n",
       "    </tr>\n",
       "    <tr>\n",
       "      <th>4</th>\n",
       "      <td>us6000k0bq</td>\n",
       "      <td>5.0</td>\n",
       "      <td>1680008041794</td>\n",
       "      <td>166.8450</td>\n",
       "      <td>-10.8856</td>\n",
       "      <td>10.000</td>\n",
       "    </tr>\n",
       "  </tbody>\n",
       "</table>\n",
       "</div>"
      ],
      "text/plain": [
       "           id  magnitude           time  longitude  latitude    depth\n",
       "0  us6000k0pe        5.4  1680114409386  -173.0504  -15.2968   10.000\n",
       "1  us6000k0il        5.1  1680080037792   127.9014   30.3087    6.485\n",
       "2  us6000k0i7        5.0  1680075533484   178.4971  -26.2273  617.233\n",
       "3  us6000k0bv        5.2  1680008837439   166.7573  -10.9198    9.181\n",
       "4  us6000k0bq        5.0  1680008041794   166.8450  -10.8856   10.000"
      ]
     },
     "execution_count": 5,
     "metadata": {},
     "output_type": "execute_result"
    }
   ],
   "source": [
    "df = pd.DataFrame(earthquakes, columns=['id', 'magnitude', 'time', 'longitude', 'latitude', 'depth'])\n",
    "df.head()"
   ]
  },
  {
   "cell_type": "markdown",
   "id": "4e3bc6f7-b475-4145-a2fc-9dce1dd8ec12",
   "metadata": {},
   "source": [
    "#### Interestingly, you can see the time in Epoch format already formatted for us for modelling."
   ]
  },
  {
   "cell_type": "markdown",
   "id": "962261be-e2f8-4634-a115-b0f98f3a49b2",
   "metadata": {},
   "source": [
    "# Transforming"
   ]
  },
  {
   "cell_type": "markdown",
   "id": "1acada5b-57e0-4db2-bdc1-66a0987b8034",
   "metadata": {},
   "source": [
    "### Exploratory Data Analysis"
   ]
  },
  {
   "cell_type": "code",
   "execution_count": 6,
   "id": "921f81a6-154e-4525-87a5-3df7fc02961b",
   "metadata": {},
   "outputs": [
    {
     "data": {
      "text/plain": [
       "id           0\n",
       "magnitude    0\n",
       "time         0\n",
       "longitude    0\n",
       "latitude     0\n",
       "depth        0\n",
       "dtype: int64"
      ]
     },
     "execution_count": 6,
     "metadata": {},
     "output_type": "execute_result"
    }
   ],
   "source": [
    "df.isnull().sum()"
   ]
  },
  {
   "cell_type": "code",
   "execution_count": 7,
   "id": "6de7d6ed-c020-4315-befb-3fbec070bc34",
   "metadata": {},
   "outputs": [
    {
     "name": "stdout",
     "output_type": "stream",
     "text": [
      "<class 'pandas.core.frame.DataFrame'>\n",
      "RangeIndex: 1000 entries, 0 to 999\n",
      "Data columns (total 6 columns):\n",
      " #   Column     Non-Null Count  Dtype  \n",
      "---  ------     --------------  -----  \n",
      " 0   id         1000 non-null   object \n",
      " 1   magnitude  1000 non-null   float64\n",
      " 2   time       1000 non-null   int64  \n",
      " 3   longitude  1000 non-null   float64\n",
      " 4   latitude   1000 non-null   float64\n",
      " 5   depth      1000 non-null   float64\n",
      "dtypes: float64(4), int64(1), object(1)\n",
      "memory usage: 47.0+ KB\n"
     ]
    }
   ],
   "source": [
    "df.info()"
   ]
  },
  {
   "cell_type": "code",
   "execution_count": 8,
   "id": "06013f92-6960-4217-a5c8-56e59d0ea0d4",
   "metadata": {},
   "outputs": [
    {
     "data": {
      "text/html": [
       "<div>\n",
       "<style scoped>\n",
       "    .dataframe tbody tr th:only-of-type {\n",
       "        vertical-align: middle;\n",
       "    }\n",
       "\n",
       "    .dataframe tbody tr th {\n",
       "        vertical-align: top;\n",
       "    }\n",
       "\n",
       "    .dataframe thead th {\n",
       "        text-align: right;\n",
       "    }\n",
       "</style>\n",
       "<table border=\"1\" class=\"dataframe\">\n",
       "  <thead>\n",
       "    <tr style=\"text-align: right;\">\n",
       "      <th></th>\n",
       "      <th>magnitude</th>\n",
       "      <th>time</th>\n",
       "      <th>longitude</th>\n",
       "      <th>latitude</th>\n",
       "      <th>depth</th>\n",
       "    </tr>\n",
       "  </thead>\n",
       "  <tbody>\n",
       "    <tr>\n",
       "      <th>count</th>\n",
       "      <td>1000.000000</td>\n",
       "      <td>1.000000e+03</td>\n",
       "      <td>1000.000000</td>\n",
       "      <td>1000.000000</td>\n",
       "      <td>1000.000000</td>\n",
       "    </tr>\n",
       "    <tr>\n",
       "      <th>mean</th>\n",
       "      <td>5.328230</td>\n",
       "      <td>1.671190e+12</td>\n",
       "      <td>34.371726</td>\n",
       "      <td>-0.011169</td>\n",
       "      <td>57.328038</td>\n",
       "    </tr>\n",
       "    <tr>\n",
       "      <th>std</th>\n",
       "      <td>0.426137</td>\n",
       "      <td>5.137050e+09</td>\n",
       "      <td>116.676469</td>\n",
       "      <td>31.033769</td>\n",
       "      <td>110.166981</td>\n",
       "    </tr>\n",
       "    <tr>\n",
       "      <th>min</th>\n",
       "      <td>5.000000</td>\n",
       "      <td>1.662282e+12</td>\n",
       "      <td>-179.966100</td>\n",
       "      <td>-65.407100</td>\n",
       "      <td>3.744000</td>\n",
       "    </tr>\n",
       "    <tr>\n",
       "      <th>25%</th>\n",
       "      <td>5.000000</td>\n",
       "      <td>1.666974e+12</td>\n",
       "      <td>-68.580375</td>\n",
       "      <td>-20.149225</td>\n",
       "      <td>10.000000</td>\n",
       "    </tr>\n",
       "    <tr>\n",
       "      <th>50%</th>\n",
       "      <td>5.200000</td>\n",
       "      <td>1.671115e+12</td>\n",
       "      <td>70.296300</td>\n",
       "      <td>-3.409900</td>\n",
       "      <td>15.000000</td>\n",
       "    </tr>\n",
       "    <tr>\n",
       "      <th>75%</th>\n",
       "      <td>5.500000</td>\n",
       "      <td>1.675724e+12</td>\n",
       "      <td>140.258000</td>\n",
       "      <td>26.609500</td>\n",
       "      <td>49.048500</td>\n",
       "    </tr>\n",
       "    <tr>\n",
       "      <th>max</th>\n",
       "      <td>7.800000</td>\n",
       "      <td>1.680114e+12</td>\n",
       "      <td>179.973800</td>\n",
       "      <td>72.518400</td>\n",
       "      <td>660.000000</td>\n",
       "    </tr>\n",
       "  </tbody>\n",
       "</table>\n",
       "</div>"
      ],
      "text/plain": [
       "         magnitude          time    longitude     latitude        depth\n",
       "count  1000.000000  1.000000e+03  1000.000000  1000.000000  1000.000000\n",
       "mean      5.328230  1.671190e+12    34.371726    -0.011169    57.328038\n",
       "std       0.426137  5.137050e+09   116.676469    31.033769   110.166981\n",
       "min       5.000000  1.662282e+12  -179.966100   -65.407100     3.744000\n",
       "25%       5.000000  1.666974e+12   -68.580375   -20.149225    10.000000\n",
       "50%       5.200000  1.671115e+12    70.296300    -3.409900    15.000000\n",
       "75%       5.500000  1.675724e+12   140.258000    26.609500    49.048500\n",
       "max       7.800000  1.680114e+12   179.973800    72.518400   660.000000"
      ]
     },
     "execution_count": 8,
     "metadata": {},
     "output_type": "execute_result"
    }
   ],
   "source": [
    "df.describe()"
   ]
  },
  {
   "cell_type": "code",
   "execution_count": 9,
   "id": "63c18823-8ef3-4fd5-bb75-e59602eb0f2c",
   "metadata": {},
   "outputs": [
    {
     "data": {
      "text/plain": [
       "(1000, 6)"
      ]
     },
     "execution_count": 9,
     "metadata": {},
     "output_type": "execute_result"
    }
   ],
   "source": [
    "df.shape"
   ]
  },
  {
   "cell_type": "code",
   "execution_count": 10,
   "id": "44dd2ef5-40aa-47f1-a99b-50d37e77be31",
   "metadata": {},
   "outputs": [],
   "source": [
    "import matplotlib.pyplot as plt\n",
    "import seaborn as sns"
   ]
  },
  {
   "cell_type": "code",
   "execution_count": 11,
   "id": "b749bcef-1143-4ed7-a5b7-5a0cbaa99452",
   "metadata": {},
   "outputs": [
    {
     "data": {
      "image/png": "[encoded data removed]",
      "text/plain": [
       "<Figure size 504x216 with 1 Axes>"
      ]
     },
     "metadata": {
      "needs_background": "light"
     },
     "output_type": "display_data"
    }
   ],
   "source": [
    "# Distribution of earthquake magnitudes\n",
    "plt.figure(figsize=(7, 3))\n",
    "plt.hist(df['magnitude'], bins=50, color='blue', edgecolor='black')\n",
    "plt.xlabel('Magnitude')\n",
    "plt.ylabel('Frequency')\n",
    "plt.title('Distribution of Earthquake Magnitude')\n",
    "plt.show()"
   ]
  },
  {
   "cell_type": "code",
   "execution_count": 12,
   "id": "72d4b549-c90b-436a-833f-54efb3aca8bc",
   "metadata": {},
   "outputs": [
    {
     "data": {
      "image/png": "[encoded data removed]",
      "text/plain": [
       "<Figure size 648x288 with 2 Axes>"
      ]
     },
     "metadata": {
      "needs_background": "light"
     },
     "output_type": "display_data"
    }
   ],
   "source": [
    "# A very visual visualisation of earthquake locations.\n",
    "plt.figure(figsize=(9, 4))\n",
    "plt.scatter(df['longitude'], df['latitude'], s=10, c=df['magnitude'], cmap='magma', alpha=0.5)\n",
    "plt.xlabel('Longitude')\n",
    "plt.ylabel('Latitude')\n",
    "plt.title('Earthquake Coordinates')\n",
    "plt.colorbar(label='Magnitude')\n",
    "plt.show()"
   ]
  },
  {
   "cell_type": "code",
   "execution_count": 13,
   "id": "c2226f29-ecb6-4ee9-ae67-816a3bde28b6",
   "metadata": {},
   "outputs": [
    {
     "data": {
      "image/png": "[encoded data removed]",
      "text/plain": [
       "<Figure size 648x360 with 2 Axes>"
      ]
     },
     "metadata": {
      "needs_background": "light"
     },
     "output_type": "display_data"
    }
   ],
   "source": [
    "# We can see a weak negative correlation between depth and magnitude visually hear. \n",
    "# The higher the magnitude the higher the depth of the earthquake\n",
    "plt.figure(figsize=(9, 5))\n",
    "plt.scatter(df['magnitude'], df['depth'], s=10, c=df['magnitude'], cmap='magma', alpha=0.5)\n",
    "plt.xlabel('Magnitude')\n",
    "plt.ylabel('Depth (km)')\n",
    "plt.title('magnitude vs Earthquake Depth')\n",
    "plt.colorbar(label='Magnitude')\n",
    "plt.show()"
   ]
  },
  {
   "cell_type": "markdown",
   "id": "21a90bc7-6914-4fee-9380-b8d28ae5a91f",
   "metadata": {},
   "source": [
    "### Data Preprocessing"
   ]
  },
  {
   "cell_type": "code",
   "execution_count": 14,
   "id": "05153fd1-fd6e-4303-9737-da45b463abec",
   "metadata": {},
   "outputs": [],
   "source": [
    "from sklearn.model_selection import train_test_split\n",
    "from sklearn.preprocessing import StandardScaler\n",
    "from sklearn.linear_model import LinearRegression\n",
    "from sklearn.metrics import mean_squared_error, mean_absolute_error, r2_score\n",
    "from datetime import datetime"
   ]
  },
  {
   "cell_type": "code",
   "execution_count": 15,
   "id": "bffa54ed-81e5-4206-a2b4-bc6fd189ce68",
   "metadata": {},
   "outputs": [
    {
     "data": {
      "text/html": [
       "<div>\n",
       "<style scoped>\n",
       "    .dataframe tbody tr th:only-of-type {\n",
       "        vertical-align: middle;\n",
       "    }\n",
       "\n",
       "    .dataframe tbody tr th {\n",
       "        vertical-align: top;\n",
       "    }\n",
       "\n",
       "    .dataframe thead th {\n",
       "        text-align: right;\n",
       "    }\n",
       "</style>\n",
       "<table border=\"1\" class=\"dataframe\">\n",
       "  <thead>\n",
       "    <tr style=\"text-align: right;\">\n",
       "      <th></th>\n",
       "      <th>id</th>\n",
       "      <th>magnitude</th>\n",
       "      <th>time</th>\n",
       "      <th>longitude</th>\n",
       "      <th>latitude</th>\n",
       "      <th>depth</th>\n",
       "    </tr>\n",
       "  </thead>\n",
       "  <tbody>\n",
       "    <tr>\n",
       "      <th>0</th>\n",
       "      <td>us6000k0pe</td>\n",
       "      <td>5.4</td>\n",
       "      <td>1680114409386</td>\n",
       "      <td>-173.0504</td>\n",
       "      <td>-15.2968</td>\n",
       "      <td>10.000</td>\n",
       "    </tr>\n",
       "    <tr>\n",
       "      <th>1</th>\n",
       "      <td>us6000k0il</td>\n",
       "      <td>5.1</td>\n",
       "      <td>1680080037792</td>\n",
       "      <td>127.9014</td>\n",
       "      <td>30.3087</td>\n",
       "      <td>6.485</td>\n",
       "    </tr>\n",
       "    <tr>\n",
       "      <th>2</th>\n",
       "      <td>us6000k0i7</td>\n",
       "      <td>5.0</td>\n",
       "      <td>1680075533484</td>\n",
       "      <td>178.4971</td>\n",
       "      <td>-26.2273</td>\n",
       "      <td>617.233</td>\n",
       "    </tr>\n",
       "    <tr>\n",
       "      <th>3</th>\n",
       "      <td>us6000k0bv</td>\n",
       "      <td>5.2</td>\n",
       "      <td>1680008837439</td>\n",
       "      <td>166.7573</td>\n",
       "      <td>-10.9198</td>\n",
       "      <td>9.181</td>\n",
       "    </tr>\n",
       "    <tr>\n",
       "      <th>4</th>\n",
       "      <td>us6000k0bq</td>\n",
       "      <td>5.0</td>\n",
       "      <td>1680008041794</td>\n",
       "      <td>166.8450</td>\n",
       "      <td>-10.8856</td>\n",
       "      <td>10.000</td>\n",
       "    </tr>\n",
       "  </tbody>\n",
       "</table>\n",
       "</div>"
      ],
      "text/plain": [
       "           id  magnitude           time  longitude  latitude    depth\n",
       "0  us6000k0pe        5.4  1680114409386  -173.0504  -15.2968   10.000\n",
       "1  us6000k0il        5.1  1680080037792   127.9014   30.3087    6.485\n",
       "2  us6000k0i7        5.0  1680075533484   178.4971  -26.2273  617.233\n",
       "3  us6000k0bv        5.2  1680008837439   166.7573  -10.9198    9.181\n",
       "4  us6000k0bq        5.0  1680008041794   166.8450  -10.8856   10.000"
      ]
     },
     "execution_count": 15,
     "metadata": {},
     "output_type": "execute_result"
    }
   ],
   "source": [
    "df.head()"
   ]
  },
  {
   "cell_type": "code",
   "execution_count": 16,
   "id": "441e9f5c-e536-4fa9-ad61-b1fcb7b6280f",
   "metadata": {},
   "outputs": [],
   "source": [
    "# From researching, time and depth are the best features to predict the magnitude and coordinates.\n",
    "X = df[['time', 'depth']]\n",
    "y = df[['magnitude', 'latitude', 'longitude']]"
   ]
  },
  {
   "cell_type": "code",
   "execution_count": 17,
   "id": "4d459388-2e9b-4b17-acc6-a954247e6691",
   "metadata": {},
   "outputs": [],
   "source": [
    "X_train, X_test, y_train, y_test = train_test_split(X, y, test_size=0.2)"
   ]
  },
  {
   "cell_type": "code",
   "execution_count": 18,
   "id": "df071b02-3178-40a4-9d78-dcf294d5ef79",
   "metadata": {},
   "outputs": [],
   "source": [
    "scaler = StandardScaler()\n",
    "X_train_scaled = scaler.fit_transform(X_train)\n",
    "X_test_scaled = scaler.transform(X_test)"
   ]
  },
  {
   "cell_type": "code",
   "execution_count": 19,
   "id": "1900cd72-bd74-4546-9042-1e8baaa22fac",
   "metadata": {},
   "outputs": [],
   "source": [
    "# Convert epoch timestamp to datatime format\n",
    "df['time'] = pd.to_datetime(df['time'], unit='ms')"
   ]
  },
  {
   "cell_type": "markdown",
   "id": "d5882441-8489-4160-9727-cd5a0a5006c1",
   "metadata": {},
   "source": [
    "### Data Modelling"
   ]
  },
  {
   "cell_type": "code",
   "execution_count": 20,
   "id": "f02919c0-ee49-4492-a7b9-be53bf497d9f",
   "metadata": {},
   "outputs": [
    {
     "data": {
      "text/plain": [
       "LinearRegression()"
      ]
     },
     "execution_count": 20,
     "metadata": {},
     "output_type": "execute_result"
    }
   ],
   "source": [
    "model = LinearRegression()\n",
    "model.fit(X_train_scaled, y_train)"
   ]
  },
  {
   "cell_type": "code",
   "execution_count": 21,
   "id": "29ae05c5-779b-4afb-97fe-09df1bfdafac",
   "metadata": {},
   "outputs": [],
   "source": [
    "# We undergo our prediction\n",
    "y_pred = model.predict(X_test_scaled)"
   ]
  },
  {
   "cell_type": "code",
   "execution_count": 22,
   "id": "201b069a-2e13-4d95-a260-1f2ed1f83bbe",
   "metadata": {},
   "outputs": [
    {
     "name": "stdout",
     "output_type": "stream",
     "text": [
      "[ 5.32768919 -0.45634331 34.34781142]\n"
     ]
    }
   ],
   "source": [
    "# Checking the predicted value\n",
    "print(y_pred[0])"
   ]
  },
  {
   "cell_type": "code",
   "execution_count": 23,
   "id": "a5190135-759a-44fa-98e8-1f5d0e54334b",
   "metadata": {},
   "outputs": [],
   "source": [
    "# We evaluate the accuracy of our score\n",
    "mae = mean_absolute_error(y_test, y_pred)\n",
    "mse = mean_squared_error(y_test, y_pred)\n",
    "rmse = np.sqrt(mse)\n",
    "r2 = r2_score(y_test, y_pred)"
   ]
  },
  {
   "cell_type": "markdown",
   "id": "4466dcf0-30fa-4a35-8491-cf961ee14120",
   "metadata": {},
   "source": [
    "### Evaluation"
   ]
  },
  {
   "cell_type": "code",
   "execution_count": 24,
   "id": "079a88d7-5773-4249-8373-7be9bda93c45",
   "metadata": {},
   "outputs": [
    {
     "name": "stdout",
     "output_type": "stream",
     "text": [
      "Mean Absolute Error: 43.493040119813294\n",
      "Mean Squared Error: 5002.514995152671\n",
      "Root Mean Squared Error: 70.72845958419192\n",
      "R-squared: 0.008345431918594381\n"
     ]
    }
   ],
   "source": [
    "# We can see our evaluation values needs improvements. \n",
    "# Especially with our R squared with the relationship of the two variables explains 1% of the variation of the data.\n",
    "# We can see our Mean Absolute Error is high as well .\n",
    "print(f\"Mean Absolute Error: {mae}\")\n",
    "print(f\"Mean Squared Error: {mse}\")\n",
    "print(f\"Root Mean Squared Error: {rmse}\")\n",
    "print(f\"R-squared: {r2}\")"
   ]
  },
  {
   "cell_type": "code",
   "execution_count": 25,
   "id": "eb516a39-5d54-4a77-9fab-1b60d5bb74d1",
   "metadata": {},
   "outputs": [],
   "source": [
    "# We now predict the magnitude and coordinates of the next earthquake\n",
    "# If a earthquake happened now with the depth of (), it would have the 'magnitude', 'latitude', 'longitude'"
   ]
  },
  {
   "cell_type": "code",
   "execution_count": 26,
   "id": "d85540cb-3f0e-4f11-bf47-0c6b7bb1008a",
   "metadata": {},
   "outputs": [],
   "source": [
    "import datetime\n",
    "import random"
   ]
  },
  {
   "cell_type": "code",
   "execution_count": 27,
   "id": "d1a9b5d4-24b6-4396-9433-99200992468f",
   "metadata": {},
   "outputs": [],
   "source": [
    "# Current date and time\n",
    "current_time = datetime.datetime.now()\n",
    "\n",
    "# Generate a random depth value that ranges from 0 and 700\n",
    "new_depth = round(random.uniform(0, 700), 1)\n",
    "\n",
    "# Convert the new time to Unix timestamp so it can be scaled\n",
    "new_time_unix = int(current_time.timestamp())\n",
    "\n",
    "#We create a dataframe so feature names are not lost when scaling the two features\n",
    "predicting_data = pd.DataFrame([[new_time_unix, new_depth]], columns=['time', 'depth'])\n",
    "\n",
    "# We now standardise the new time and depth values using the same scaler used from the training data\n",
    "new_data_scaled = scaler.transform(predicting_data)"
   ]
  },
  {
   "cell_type": "code",
   "execution_count": 28,
   "id": "36664120-26a0-4996-b109-8364f57084e8",
   "metadata": {},
   "outputs": [
    {
     "name": "stdout",
     "output_type": "stream",
     "text": [
      "2023-03-29 21:42:03.315019\n"
     ]
    }
   ],
   "source": [
    "print(current_time)"
   ]
  },
  {
   "cell_type": "code",
   "execution_count": 29,
   "id": "07545020-aa03-4e8a-8d99-f326ca154c2f",
   "metadata": {},
   "outputs": [],
   "source": [
    "# We now predict for the new time and depth values\n",
    "new_prediction = model.predict(new_data_scaled)"
   ]
  },
  {
   "cell_type": "code",
   "execution_count": 30,
   "id": "a21eccd9-8fd2-4374-b39b-2c6d8b62e04a",
   "metadata": {},
   "outputs": [
    {
     "name": "stdout",
     "output_type": "stream",
     "text": [
      "Predicted magnitude for Next Earthquake: 8.775192482272598\n",
      "Predicted latitude for Next Earthquake: -554.1462296115136\n",
      "Predicted longitude for Next Earthquake: 585.2252516251448\n"
     ]
    }
   ],
   "source": [
    "# We check the magnitude, latitude, and longitude for the next earthquake\n",
    "print(f\"Predicted magnitude for Next Earthquake: {new_prediction[0][0]}\")\n",
    "print(f\"Predicted latitude for Next Earthquake: {new_prediction[0][1]}\")\n",
    "print(f\"Predicted longitude for Next Earthquake: {new_prediction[0][2]}\")"
   ]
  },
  {
   "cell_type": "markdown",
   "id": "0053ed6a-89d8-4b5e-b9a7-709df5431da8",
   "metadata": {},
   "source": [
    "##### We can see from the R2, MSE and MAE that our model is very inaccurate.\n",
    "##### Additionally, the latitude and longitude isn't a valid coordinate "
   ]
  },
  {
   "cell_type": "markdown",
   "id": "27326734-af33-4e6a-af32-3a3b5fb89302",
   "metadata": {},
   "source": [
    "### Hyperparameter tuning"
   ]
  },
  {
   "cell_type": "code",
   "execution_count": 31,
   "id": "1c78b11e-efab-448b-bf6b-e120fa45c74a",
   "metadata": {},
   "outputs": [],
   "source": [
    "from sklearn.model_selection import train_test_split, GridSearchCV\n",
    "from sklearn.linear_model import LinearRegression, Ridge"
   ]
  },
  {
   "cell_type": "code",
   "execution_count": 32,
   "id": "3297bf50-6a54-4ad9-8d2b-ad5010f3f112",
   "metadata": {},
   "outputs": [],
   "source": [
    "# We undergo our data modelling with hyperparameter tuning\n",
    "ridge = Ridge()\n",
    "params = {'alpha': np.logspace(-4, 4, 100)}\n",
    "\n",
    "# We use Gridsearch with a cross-validated of 5\n",
    "grid_search = GridSearchCV(ridge, param_grid=params, scoring='neg_mean_squared_error', cv=5)\n",
    "grid_search.fit(X_train_scaled, y_train)\n",
    "\n",
    "# This is our best model\n",
    "best_model = grid_search.best_estimator_\n",
    "\n",
    "# We do our prediction using the best model\n",
    "y_pred = best_model.predict(X_test_scaled)"
   ]
  },
  {
   "cell_type": "code",
   "execution_count": 33,
   "id": "c9e9f9aa-aafd-4e4d-95de-ebf8f748d00e",
   "metadata": {},
   "outputs": [
    {
     "name": "stdout",
     "output_type": "stream",
     "text": [
      "Mean Absolute Error: 43.72775142741742\n",
      "Mean Squared Error: 5009.861403794011\n",
      "Root Mean Squared Error: 70.78037442535897\n",
      "R-squared: -0.0017872630664457212\n"
     ]
    }
   ],
   "source": [
    "# We evaluate and display the errornous of our model\n",
    "mae = mean_absolute_error(y_test, y_pred)\n",
    "mse = mean_squared_error(y_test, y_pred)\n",
    "rmse = np.sqrt(mse)\n",
    "r2 = r2_score(y_test, y_pred)\n",
    "\n",
    "print(f\"Mean Absolute Error: {mae}\")\n",
    "print(f\"Mean Squared Error: {mse}\")\n",
    "print(f\"Root Mean Squared Error: {rmse}\")\n",
    "print(f\"R-squared: {r2}\")"
   ]
  },
  {
   "cell_type": "code",
   "execution_count": 34,
   "id": "8bfbacfe-7534-4397-aae5-393d4e21261b",
   "metadata": {},
   "outputs": [
    {
     "name": "stdout",
     "output_type": "stream",
     "text": [
      "Predicted magnitude for Next Earthquake: 5.592723151270904\n",
      "Predicted latitude for Next Earthquake: -42.26811267151862\n",
      "Predicted longitude for Next Earthquake: 74.96417659552381\n"
     ]
    }
   ],
   "source": [
    "# We again use the current_time and a random depth value and standardise them using .transform.\n",
    "current_time = datetime.datetime.now()\n",
    "new_depth = round(random.uniform(0, 700), 1)\n",
    "new_time_unix = int(current_time.timestamp())\n",
    "predicting_data = pd.DataFrame([[new_time_unix, new_depth]], columns=['time', 'depth'])\n",
    "new_data_scaled = scaler.transform(predicting_data)\n",
    "\n",
    "# We predict the next earthquake\n",
    "new_prediction = best_model.predict(new_data_scaled)\n",
    "\n",
    "print(f\"Predicted magnitude for Next Earthquake: {new_prediction[0][0]}\")\n",
    "print(f\"Predicted latitude for Next Earthquake: {new_prediction[0][1]}\")\n",
    "print(f\"Predicted longitude for Next Earthquake: {new_prediction[0][2]}\")"
   ]
  },
  {
   "cell_type": "markdown",
   "id": "a5378b32-79dd-468a-a28f-b9759b69792d",
   "metadata": {},
   "source": [
    "##### The coordinates and magnitude is more accurate, however,\n",
    "##### we can see that after hyper tuning our model that our model is actually worse with a R2: -0.0017...\n",
    "##### This is odd even though our coordiates and magnitude is more accurate.\n",
    "##### I'll need to reevaluate the choices of the independent variables I've chosen for a more accurate Linear Regression model.\n",
    "##### More features with more complex models are needed to raise the error values which I beyond the scope of this project\n",
    "##### In the next phase we load our data onto MySQL database which will be connected with PowerBI for further visualisation and summary."
   ]
  },
  {
   "cell_type": "markdown",
   "id": "4d3946ad-a3b3-402c-9380-89fc43baca9e",
   "metadata": {},
   "source": [
    "# Loading onto MySQL"
   ]
  },
  {
   "cell_type": "code",
   "execution_count": null,
   "id": "bc24d606-f4c1-4553-9b97-d6e59f1cf440",
   "metadata": {},
   "outputs": [],
   "source": [
    "import mysql.connector\n",
    "from sqlalchemy import create_engine"
   ]
  },
  {
   "cell_type": "code",
   "execution_count": null,
   "id": "9df67a31-26e5-4456-81c7-4604ab3135ad",
   "metadata": {},
   "outputs": [],
   "source": [
    "# Connect to MySQL db\n",
    "try:\n",
    "    user = 'root'\n",
    "    password = 'admin'\n",
    "    host = 'localhost'\n",
    "    database = 'earthquake'\n",
    "\n",
    "    connection_string = f\"mysql+mysqlconnector://{user}:{password}@{host}/{database}\"\n",
    "    engine = create_engine(connection_string)\n",
    "except Exception as e:\n",
    "    print(f\"Error establishing connection to MySQL database: {e}\")\n",
    "    raise"
   ]
  },
  {
   "cell_type": "code",
   "execution_count": null,
   "id": "5297bf3d-40e9-4666-8022-2f400cfdad42",
   "metadata": {},
   "outputs": [],
   "source": [
    "# We create a table with the appropriate columns from our earquakes Dataframe in MySQL database\n",
    "try:\n",
    "    eq_table = 'earthquakes'\n",
    "\n",
    "    create_table_query = f\"\"\"\n",
    "    CREATE TABLE IF NOT EXISTS {eq_table} (\n",
    "        id varchar(50) PRIMARY KEY,\n",
    "        time DATETIME,\n",
    "        magnitude DOUBLE,\n",
    "        latitude DOUBLE,\n",
    "        longitude DOUBLE,\n",
    "        depth DOUBLE\n",
    "        \n",
    "    );\n",
    "    \"\"\"\n",
    "\n",
    "    with engine.connect() as conn:\n",
    "        conn.execute(create_table_query)\n",
    "except Exception as e:\n",
    "    print(f\"Error creating table in database: {e}\")\n",
    "    raise\n",
    "\n",
    "# We first delete the previous dataset before inserting the new list of earthquakes\n",
    "try:\n",
    "    delete_query = f\"DELETE FROM {eq_table}\"\n",
    "    with engine.connect() as conn:\n",
    "        conn.execute(delete_query)\n",
    "        conn.close()\n",
    "except Exception as e:\n",
    "    print(f\"Error deleting data from earthquakes table: {e}\")\n",
    "    raise\n",
    "\n",
    "    \n",
    "# We insert the DataFrame data into earthquakes table\n",
    "try:\n",
    "    df.to_sql(eq_table, engine, if_exists='append', index=False)\n",
    "    conn.close()\n",
    "except Exception as e:\n",
    "    print(f\"Error inserting data into MySQL table: {e}\")\n",
    "    raise"
   ]
  },
  {
   "cell_type": "code",
   "execution_count": null,
   "id": "058f2131-8ea8-402d-a7a7-f329e4e6ee32",
   "metadata": {},
   "outputs": [],
   "source": [
    "# We insert the predicted earthquakes into a new table\n",
    "try:\n",
    "    predicted_eq = 'predicted_eq'\n",
    "\n",
    "    create_predicted_table_query = f\"\"\"\n",
    "    CREATE TABLE IF NOT EXISTS {predicted_eq} (\n",
    "        id INT AUTO_INCREMENT PRIMARY KEY,\n",
    "        predicted_magnitude DOUBLE,\n",
    "        predicted_latitude DOUBLE,\n",
    "        predicted_longitude DOUBLE,\n",
    "        current_datetime DATETIME,\n",
    "        random_depth DOUBLE\n",
    "    );\n",
    "    \"\"\"\n",
    "\n",
    "    with engine.connect() as conn:\n",
    "        conn.execute(create_predicted_table_query)\n",
    "        conn.close()\n",
    "except Exception as e:\n",
    "    print(f\"Error creating table for predicted data in MySQL database: {e}\")\n",
    "    raise\n",
    "    \n",
    "# We again delete the previous predcited equakes for now before inserting new data\n",
    "try:\n",
    "    delete_query = f\"DELETE FROM {predicted_eq}\"\n",
    "    with engine.connect() as conn:\n",
    "        conn.execute(delete_query)\n",
    "        conn.close()\n",
    "except Exception as e:\n",
    "    print(f\"Error deleting data from MySQL table: {e}\")\n",
    "    raise"
   ]
  },
  {
   "cell_type": "code",
   "execution_count": null,
   "id": "5193b0d2-3caf-4499-a866-0795abae5c65",
   "metadata": {},
   "outputs": [],
   "source": [
    "# Finally, we insert the predicted data into the MySQL table\n",
    "try:\n",
    "\n",
    "    insert_predicted_data_query = f\"\"\"\n",
    "    INSERT INTO {predicted_eq} (`predicted_magnitude`, `predicted_latitude`, `predicted_longitude`, `current_datetime`, `random_depth`)\n",
    "    VALUES ({round(new_prediction[0][0], 2)}, {new_prediction[0][1]}, {new_prediction[0][2]}, '{current_time}', '{new_depth}');\n",
    "    \"\"\"\n",
    "\n",
    "    with engine.connect() as conn:\n",
    "        conn.execute(insert_predicted_data_query)\n",
    "        conn.close()\n",
    "except Exception as e:\n",
    "    print(f\"Error inserting predicted data into MySQL table: {e}\")\n",
    "    raise"
   ]
  },
  {
   "cell_type": "markdown",
   "id": "84111336-da26-4ae1-b1cf-75712280c0b4",
   "metadata": {},
   "source": [
    "##### From here onwards, the data will be accessible via PowerBI for futher insight and visualisation for Data Analysts.\n",
    "##### We've completed the ETL pipeline within this notebook."
   ]
  }
 ],
 "metadata": {
  "kernelspec": {
   "display_name": "Python 3 (ipykernel)",
   "language": "python",
   "name": "python3"
  },
  "language_info": {
   "codemirror_mode": {
    "name": "ipython",
    "version": 3
   },
   "file_extension": ".py",
   "mimetype": "text/x-python",
   "name": "python",
   "nbconvert_exporter": "python",
   "pygments_lexer": "ipython3",
   "version": "3.9.13"
  }
 },
 "nbformat": 4,
 "nbformat_minor": 5
}
